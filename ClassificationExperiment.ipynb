{
 "cells": [
  {
   "cell_type": "code",
   "execution_count": 14,
   "metadata": {},
   "outputs": [
    {
     "data": {
      "image/png": "[encoded data removed]",
      "text/plain": [
       "<matplotlib.figure.Figure at 0x17c3b1dcd68>"
      ]
     },
     "metadata": {},
     "output_type": "display_data"
    }
   ],
   "source": [
    "import numpy as np\n",
    "import matplotlib.pyplot as plt\n",
    "from sklearn.cross_validation import train_test_split\n",
    "from sklearn.datasets import load_svmlight_file\n",
    "from numpy import dot\n",
    "#from numpy.linalg import inv\n",
    "\n",
    "#参数设置\n",
    "lr=1e-2\n",
    "iteration=100\n",
    "\n",
    "#读取数据集\n",
    "def get_data():\n",
    "    data = load_svmlight_file(\"housing_scale\")\n",
    "    return data[0], data[1]\n",
    "\n",
    "#设置参数生成训练集以及验证集\n",
    "def split(x,y,tsize=0.2 ,rstate=33):\n",
    "    x_train, x_test, y_train, y_test = train_test_split(x, y, test_size=tsize, random_state=rstate)\n",
    "    return x_train, x_test, y_train, y_test\n",
    "\n",
    "#loss函数计算\n",
    "def loss(x,y,w):\n",
    "    return np.dot((y-np.dot(x,w)).T,(y-np.dot(x,w)))\n",
    "\n",
    "#梯度计算\n",
    "def gradient(x,y,w):\n",
    "    return np.dot(x.T,np.dot(x,w))-np.dot(x.T,y)\n",
    "\n",
    "x, y = get_data()\n",
    "x_train, x_test, y_train, y_test = split(x,y,0.1,23)\n",
    "x_train = x_train.toarray()\n",
    "x_test = x_test.toarray()\n",
    "w = np.zeros((13,))\n",
    "numOfSample=x_train.shape[0]\n",
    "numOfValidation=x_test.shape[0]\n",
    "Trainloss=np.zeros(iteration) #记录每次迭代的训练集Loss\n",
    "Validateloss=np.zeros(iteration) #记录每次迭带的验证机Loss\n",
    "\n",
    "for i in range(iteration): #主迭代过程\n",
    "    grad = gradient(x_train,y_train,w)/numOfSample #针对全部样本进行梯度计算\n",
    "    w = w-lr*grad #根据学习率以及梯度更新权值\n",
    "    trainingLoss=loss(x_train,y_train,w)/numOfSample\n",
    "    validationLoss=loss(x_test,y_test,w)/numOfValidation\n",
    "    Trainloss[i]=trainingLoss\n",
    "    Validateloss[i]=validationLoss\n",
    "\n",
    "#根据训练集的Loss以及验证集的Loss绘图\n",
    "plt.plot(np.arange(iteration),Trainloss,label='trainloss',color='b')\n",
    "plt.plot(np.arange(iteration),Validateloss,label='validationloss',color='r')\n",
    "plt.show()"
   ]
  },
  {
   "cell_type": "code",
   "execution_count": null,
   "metadata": {
    "collapsed": true
   },
   "outputs": [],
   "source": []
  }
 ],
 "metadata": {
  "kernelspec": {
   "display_name": "Python 3",
   "language": "python",
   "name": "python3"
  },
  "language_info": {
   "codemirror_mode": {
    "name": "ipython",
    "version": 3
   },
   "file_extension": ".py",
   "mimetype": "text/x-python",
   "name": "python",
   "nbconvert_exporter": "python",
   "pygments_lexer": "ipython3",
   "version": "3.6.3"
  }
 },
 "nbformat": 4,
 "nbformat_minor": 2
}
