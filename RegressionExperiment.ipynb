{
 "cells": [
  {
   "cell_type": "code",
   "execution_count": 18,
   "metadata": {},
   "outputs": [
    {
     "name": "stdout",
     "output_type": "stream",
     "text": [
      "[ 0.  0.  1.  0.  1.  1.  0.  0.  1.  1.  0.  0.  0.  0.  0.  1.  0.  0.\n",
      "  0.  1.  0.  1.  0.  0.  0.  1.  0.  0.  1.  0.  0.  0.  0.  0.  1.  0.\n",
      "  0.  1.  0.  0.  0.  1.  0.  0.  0.  0.  0.  0.  0.  1.  0.  0.  0.  0.\n",
      "  0.  0.  0.  1.  1.  1.  0.  0.  1.  1.  1.  0.  0.  0.  1.  1.  0.  0.\n",
      "  0.  0.  0.  1.  1.  1.  1.  0.  0.  0.  0.  0.  0.  0.  1.  1.  0.  0.\n",
      "  1.  1.  0.  1.  0.  0.  0.  1.  0.  0.  0.  0.  0.  0.  1.  1.  1.  0.\n",
      "  1.  1.  0.  0.  0.  1.  1.  0.  1.  0.  0.  0.  1.  0.  0.  0.  1.  0.\n",
      "  1.  0.  0.  0.  0.  0.  1.  0.  0.  0.  0.  1.  0.  0.  0.  0.  1.  0.\n",
      "  0.  0.  0.  0.  0.  1.  0.  0.  0.  0.  1.  1.  0.  0.  0.  0.  1.  1.\n",
      "  0.  0.  0.  0.  0.  0.  0.  0.  0.  0.  0.  1.  1.  0.  0.  1.  0.  1.\n",
      "  0.  0.  1.  0.  0.  0.  0.  0.  0.  1.  0.  1.  0.  0.  1.  1.  1.  0.\n",
      "  1.  0.  0.  0.  0.  1.  1.  0.  0.  0.  0.  1.  1.  0.  0.  1.  1.  0.\n",
      "  0.  0.  0.  0.  0.  1.  1.  1.  0.  1.  0.  0.  1.  0.  1.  0.  1.  1.\n",
      "  0.  1.  0.  0.  1.  1.  0.  1.  1.  0.  0.  1.  0.  1.  0.  0.  0.  1.\n",
      "  0.  0.  1.  0.  0.  0.  1.  0.  0.  0.  0.  0.  0.  0.  0.  0.  0.  1.\n",
      "  0.  0.  0.  1.  0.  0.  0.  1.  1.  0.  0.  1.  0.  0.  1.  1.  1.  0.\n",
      "  1.  0.  0.  1.  0.  0.  1.  0.  1.  0.  0.  1.  0.  1.  1.  1.  1.  0.\n",
      "  0.  0.  0.  0.  0.  0.  1.  0.  1.  1.  0.  1.  0.  0.  0.  0.  0.  1.\n",
      "  0.  1.  0.  1.  0.  0.  0.  0.  0.  1.  0.  0.  1.  0.  1.  0.  0.  0.\n",
      "  0.  1.  1.  0.  0.  0.  1.  0.  1.  0.  1.  0.  1.  0.  1.  0.  1.  0.\n",
      "  0.  1.  0.  0.  0.  0.  0.  0.  0.  1.  1.  0.  0.  0.  0.  0.  0.  0.\n",
      "  1.  0.  0.  1.  0.  0.  0.  1.  0.  0.  0.  0.  0.  0.  1.  0.  0.  0.\n",
      "  1.  0.  0.  1.  1.  0.  1.  0.  0.  0.  1.  1.  1.  1.  0.  1.  1.  0.\n",
      "  1.  0.  1.  1.  0.  1.  0.  0.  1.  0.  0.  1.  1.  1.  0.  0.  0.  0.\n",
      "  0.  1.  0.  0.  1.  0.  0.  0.  0.  1.  0.  0.  1.  1.  0.  0.  1.  0.\n",
      "  0.  0.  0.  0.  0.  1.  0.  0.  0.  0.  0.  1.  0.  0.  1.  0.  0.  0.\n",
      "  1.  0.  0.  0.  0.  0.  1.  0.  0.  1.  0.  0.  0.  1.  1.  0.  0.  1.\n",
      "  0.  0.  0.  0.  1.  1.  1.  0.  1.  0.  1.  0.  0.  1.  0.  0.  0.  1.\n",
      "  1.  0.  0.  0.  0.  1.  1.  0.  1.  0.  1.  0.  0.  0.  1.  0.  0.  1.\n",
      "  1.  0.  1.  0.  0.  0.  1.  0.  0.  0.  0.  0.  0.  1.  0.  1.  0.  0.\n",
      "  0.  0.  0.  1.  0.  0.  0.  0.  0.  0.  0.  1.  1.  0.  1.  0.  1.  1.\n",
      "  0.  0.  1.  0.  1.  0.  0.  0.  0.  1.  0.  0.  0.  1.  0.  0.  1.  0.\n",
      "  0.  0.  1.  0.  0.  0.  0.  0.  0.  1.  0.  1.  1.  0.  0.  1.  0.  0.\n",
      "  0.  1.  0.  1.  1.  0.  0.  0.  0.  0.  1.  0.  1.  0.  0.  0.  0.  0.\n",
      "  0.  0.  1.  0.  0.  0.  1.  0.  0.]\n"
     ]
    },
    {
     "data": {
      "image/png": "[encoded data removed]",
      "text/plain": [
       "<matplotlib.figure.Figure at 0x195d731feb8>"
      ]
     },
     "metadata": {},
     "output_type": "display_data"
    }
   ],
   "source": [
    "from sklearn.datasets import load_svmlight_file\n",
    "from numpy import dot\n",
    "from matplotlib import pyplot as plt\n",
    "\n",
    "#参数设置\n",
    "lr=1e-3\n",
    "iteration=1400\n",
    "c=1\n",
    "\n",
    "#读取数据集\n",
    "def get_data():\n",
    "    data = load_svmlight_file(\"australian_scale\")\n",
    "    return data[0], data[1]\n",
    "\n",
    "#根据设置参数划分训练集以及验证集\n",
    "def split(x,y,tsize=0.2 ,rstate=33):\n",
    "    x_train, x_test, y_train, y_test = train_test_split(x, y, test_size=tsize, random_state=rstate)\n",
    "    return x_train, x_test, y_train, y_test\n",
    "\n",
    "#计算HingeLoss\n",
    "def HingeLoss(x,y,w):\n",
    "    item1 = dot(w.T,w)*0.5\n",
    "    item2 = 0\n",
    "    for i in range(x.shape[0]):\n",
    "        item2 = item2+max(0,1-y[i]*dot(x[i],w))\n",
    "    return item1+item2\n",
    "\n",
    "#计算梯度\n",
    "def gradient(x, y, w, c):\n",
    "    item1 = w\n",
    "    item2 = dot(x.T,y)\n",
    "    item2[item2<0]=0\n",
    "    return item1-c*item2\n",
    "\n",
    "x, y = get_data()\n",
    "x_train, x_test, y_train, y_test = split(x,y,0.1,33)\n",
    "x_train = x_train.toarray()\n",
    "x_test = x_test.toarray()\n",
    "w = np.zeros((14,))\n",
    "numOfSample=x_train.shape[0]\n",
    "numOfValidation=x_test.shape[0]\n",
    "historyTLoss=np.zeros(iteration) #记录每次迭代的训练集loss\n",
    "historyVLoss=np.zeros(iteration) #记录每次迭代的验证集loss\n",
    "\n",
    "#主迭代过程\n",
    "for i in range(iteration):\n",
    "    grad=gradient(x_train,y_train,w,c)/numOfSample #通过全部样本求梯度\n",
    "    w=w-lr*grad #往负梯度方向更新权值\n",
    "    trainingLoss=HingeLoss(x_train, y_train, w)/numOfSample\n",
    "    validationLoss=HingeLoss(x_test,y_test,w)/numOfValidation\n",
    "    historyTLoss[i]=trainingLoss\n",
    "    historyVLoss[i]=validationLoss\n",
    "\n",
    "#根据阈值为0作预测\n",
    "predition = dot(x_train, w)\n",
    "predition[predition<0]=0\n",
    "predition[predition>0]=1\n",
    "print(predition)\n",
    "\n",
    "#根据验证集和训练集Loss绘图\n",
    "plt.plot(np.arange(iteration),historyTLoss,label='trainloss',color='b')\n",
    "plt.plot(np.arange(iteration),historyVLoss,label='validationloss',color='r')\n",
    "plt.show()"
   ]
  },
  {
   "cell_type": "code",
   "execution_count": null,
   "metadata": {
    "collapsed": true
   },
   "outputs": [],
   "source": []
  }
 ],
 "metadata": {
  "kernelspec": {
   "display_name": "Python 3",
   "language": "python",
   "name": "python3"
  },
  "language_info": {
   "codemirror_mode": {
    "name": "ipython",
    "version": 3
   },
   "file_extension": ".py",
   "mimetype": "text/x-python",
   "name": "python",
   "nbconvert_exporter": "python",
   "pygments_lexer": "ipython3",
   "version": "3.6.3"
  }
 },
 "nbformat": 4,
 "nbformat_minor": 2
}
